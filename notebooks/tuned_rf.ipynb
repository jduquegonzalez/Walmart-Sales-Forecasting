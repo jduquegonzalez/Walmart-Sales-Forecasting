{
 "cells": [
  {
   "cell_type": "markdown",
   "metadata": {},
   "source": [
    "### 2. Hyperparameter Tuning using Randomised Search"
   ]
  },
  {
   "cell_type": "markdown",
   "metadata": {},
   "source": [
    "#### Setup with Libraries and Utilities"
   ]
  },
  {
   "cell_type": "code",
   "execution_count": 2,
   "metadata": {},
   "outputs": [],
   "source": [
    "import pandas as pd\n",
    "import numpy as np\n",
    "import os\n",
    "import json\n",
    "from sklearn.model_selection import train_test_split, GridSearchCV, RandomizedSearchCV\n",
    "from sklearn.ensemble import RandomForestRegressor\n",
    "import matplotlib.pyplot as plt\n",
    "import time\n",
    "\n",
    "from utils.metrics import kpi_ML\n",
    "from utils.normalisation import normalise_data\n",
    "\n",
    "import warnings\n",
    "warnings.filterwarnings(\"ignore\")"
   ]
  },
  {
   "cell_type": "markdown",
   "metadata": {},
   "source": [
    "#### Loading Training and Test Data Splits"
   ]
  },
  {
   "cell_type": "code",
   "execution_count": 3,
   "metadata": {},
   "outputs": [],
   "source": [
    "X_train = pd.read_csv('../data_splits/X_train.csv')\n",
    "X_test = pd.read_csv('../data_splits/X_test.csv')\n",
    "y_train = pd.read_csv('../data_splits/y_train.csv').values.ravel()  # Convert to 1D array if needed\n",
    "y_test = pd.read_csv('../data_splits/y_test.csv').values.ravel()"
   ]
  },
  {
   "cell_type": "markdown",
   "metadata": {},
   "source": [
    "#### Normalise the Data"
   ]
  },
  {
   "cell_type": "code",
   "execution_count": 4,
   "metadata": {},
   "outputs": [],
   "source": [
    "X_train_scaled, X_test_scaled = normalise_data(X_train, X_test)"
   ]
  },
  {
   "cell_type": "markdown",
   "metadata": {},
   "source": [
    "#### Randomised Search for Optimising Random Forest Regression Parameters"
   ]
  },
  {
   "cell_type": "code",
   "execution_count": 5,
   "metadata": {},
   "outputs": [
    {
     "name": "stdout",
     "output_type": "stream",
     "text": [
      "Fitting 3 folds for each of 50 candidates, totalling 150 fits\n"
     ]
    },
    {
     "name": "stderr",
     "output_type": "stream",
     "text": [
      "/Users/jonathanduquegonzalez/myenv/lib/python3.11/site-packages/joblib/externals/loky/process_executor.py:752: UserWarning: A worker stopped while some jobs were given to the executor. This can be caused by a too short worker timeout or by a memory leak.\n",
      "  warnings.warn(\n",
      "/Users/jonathanduquegonzalez/myenv/lib/python3.11/site-packages/sklearn/model_selection/_validation.py:425: FitFailedWarning: \n",
      "81 fits failed out of a total of 150.\n",
      "The score on these train-test partitions for these parameters will be set to nan.\n",
      "If these failures are not expected, you can try to debug them by setting error_score='raise'.\n",
      "\n",
      "Below are more details about the failures:\n",
      "--------------------------------------------------------------------------------\n",
      "24 fits failed with the following error:\n",
      "Traceback (most recent call last):\n",
      "  File \"/Users/jonathanduquegonzalez/myenv/lib/python3.11/site-packages/sklearn/model_selection/_validation.py\", line 729, in _fit_and_score\n",
      "    estimator.fit(X_train, y_train, **fit_params)\n",
      "  File \"/Users/jonathanduquegonzalez/myenv/lib/python3.11/site-packages/sklearn/base.py\", line 1145, in wrapper\n",
      "    estimator._validate_params()\n",
      "  File \"/Users/jonathanduquegonzalez/myenv/lib/python3.11/site-packages/sklearn/base.py\", line 638, in _validate_params\n",
      "    validate_parameter_constraints(\n",
      "  File \"/Users/jonathanduquegonzalez/myenv/lib/python3.11/site-packages/sklearn/utils/_param_validation.py\", line 96, in validate_parameter_constraints\n",
      "    raise InvalidParameterError(\n",
      "sklearn.utils._param_validation.InvalidParameterError: The 'max_features' parameter of RandomForestRegressor must be an int in the range [1, inf), a float in the range (0.0, 1.0], a str among {'log2', 'sqrt'} or None. Got 'auto' instead.\n",
      "\n",
      "--------------------------------------------------------------------------------\n",
      "57 fits failed with the following error:\n",
      "Traceback (most recent call last):\n",
      "  File \"/Users/jonathanduquegonzalez/myenv/lib/python3.11/site-packages/sklearn/model_selection/_validation.py\", line 729, in _fit_and_score\n",
      "    estimator.fit(X_train, y_train, **fit_params)\n",
      "  File \"/Users/jonathanduquegonzalez/myenv/lib/python3.11/site-packages/sklearn/base.py\", line 1145, in wrapper\n",
      "    estimator._validate_params()\n",
      "  File \"/Users/jonathanduquegonzalez/myenv/lib/python3.11/site-packages/sklearn/base.py\", line 638, in _validate_params\n",
      "    validate_parameter_constraints(\n",
      "  File \"/Users/jonathanduquegonzalez/myenv/lib/python3.11/site-packages/sklearn/utils/_param_validation.py\", line 96, in validate_parameter_constraints\n",
      "    raise InvalidParameterError(\n",
      "sklearn.utils._param_validation.InvalidParameterError: The 'max_features' parameter of RandomForestRegressor must be an int in the range [1, inf), a float in the range (0.0, 1.0], a str among {'sqrt', 'log2'} or None. Got 'auto' instead.\n",
      "\n",
      "  warnings.warn(some_fits_failed_message, FitFailedWarning)\n",
      "/Users/jonathanduquegonzalez/myenv/lib/python3.11/site-packages/sklearn/model_selection/_search.py:979: UserWarning: One or more of the test scores are non-finite: [       nan        nan 0.79158104        nan        nan        nan\n",
      "        nan 0.55989206 0.77474387 0.80596678        nan        nan\n",
      "        nan        nan        nan 0.77922461        nan        nan\n",
      "        nan        nan 0.7973733         nan 0.56041079 0.77438152\n",
      " 0.7863462  0.79496522 0.56401413        nan        nan 0.79915206\n",
      " 0.79039751 0.55833372 0.78926748        nan 0.78759805        nan\n",
      "        nan 0.57101699 0.77054372        nan        nan 0.56877592\n",
      " 0.79943984 0.78603529 0.56577038 0.80542726        nan        nan\n",
      "        nan        nan]\n",
      "  warnings.warn(\n"
     ]
    }
   ],
   "source": [
    "rf_param_grid = {\n",
    "    'n_estimators': [100, 200, 300],\n",
    "    'max_features': ['auto', 'sqrt'],\n",
    "    'max_depth': [10, 20, None],\n",
    "    'min_samples_split': [2, 5, 10],\n",
    "    'min_samples_leaf': [1, 2, 4],\n",
    "    'bootstrap': [True, False]\n",
    "}\n",
    "\n",
    "rf_random_search = RandomizedSearchCV(estimator=RandomForestRegressor(random_state=42), \n",
    "                                      param_distributions=rf_param_grid, \n",
    "                                      n_iter=50, cv=3, n_jobs=-1, verbose=1, random_state=42)\n",
    "\n",
    "start_time_rf2 = time.time()\n",
    "rf_random_search.fit(X_train_scaled, y_train)\n",
    "training_time_rf2 = (time.time() - start_time_rf2) / 60"
   ]
  },
  {
   "cell_type": "markdown",
   "metadata": {},
   "source": [
    "#### Printing and Saving Best Parameters for Tuned Random Forest Regression Model"
   ]
  },
  {
   "cell_type": "code",
   "execution_count": 6,
   "metadata": {},
   "outputs": [
    {
     "name": "stdout",
     "output_type": "stream",
     "text": [
      "Best parameters found:  {'n_estimators': 100, 'min_samples_split': 2, 'min_samples_leaf': 2, 'max_features': 'sqrt', 'max_depth': None, 'bootstrap': True}\n"
     ]
    }
   ],
   "source": [
    "best_rf = rf_random_search.best_estimator_\n",
    "\n",
    "print(\"Best parameters found: \", rf_random_search.best_params_)"
   ]
  },
  {
   "cell_type": "code",
   "execution_count": 7,
   "metadata": {},
   "outputs": [
    {
     "name": "stdout",
     "output_type": "stream",
     "text": [
      "Best parameters saved to ../model_metrics/statistical_models/best_params_tuned_rf.json\n"
     ]
    }
   ],
   "source": [
    "best_params_path = '../model_metrics/statistical_models/best_params_tuned_rf.json'\n",
    "\n",
    "best_params_tuned_rf = rf_random_search.best_params_\n",
    "\n",
    "try:\n",
    "    with open(best_params_path, 'w') as file:\n",
    "        json.dump(best_params_tuned_rf, file)\n",
    "    print(f\"Best parameters saved to {best_params_path}\")\n",
    "except Exception as e:\n",
    "    print(f\"Error saving best parameters: {e}\")"
   ]
  },
  {
   "cell_type": "markdown",
   "metadata": {},
   "source": [
    "#### Evaluating and Saving Performance Metrics for Tuned Random Forest Regressor"
   ]
  },
  {
   "cell_type": "code",
   "execution_count": 8,
   "metadata": {},
   "outputs": [
    {
     "name": "stdout",
     "output_type": "stream",
     "text": [
      "                                MAE  RMSE  Bias   R²  Training Time rf2 (min)\n",
      "Tuned Random Forest Regressor                                                \n",
      "Train                          22.8  39.4   0.0  0.9                     13.9\n",
      "Test                           35.8  61.3   0.1  0.8                     13.9\n"
     ]
    }
   ],
   "source": [
    "Y_train_pred = best_rf.predict(X_train_scaled)\n",
    "Y_test_pred = best_rf.predict(X_test_scaled)\n",
    "\n",
    "metrics_tuned_rf = kpi_ML(y_train, Y_train_pred, y_test, Y_test_pred, \"Tuned Random Forest Regressor\")\n",
    "metrics_tuned_rf['Training Time rf2 (min)'] = round(training_time_rf2, 1)\n",
    "\n",
    "print(metrics_tuned_rf)"
   ]
  },
  {
   "cell_type": "markdown",
   "metadata": {},
   "source": [
    "#### Analysis of Simple vs. Tuned Random Forest Regressors and Future Model Enhancements"
   ]
  },
  {
   "cell_type": "markdown",
   "metadata": {},
   "source": [
    "The errors are higher in the test set compared to the training set, which is expected. The model performs quite well but shows some degree of overfitting, as indicated by the higher test errors. Despite this, the R² values of 0.9 for the training set and 0.8 for the test set indicate that the model explains most of the variance in the data. The bias is very low for both sets, suggesting that the model is not systematically underpredicting or overpredicting.\n",
    "\n",
    "In conclusion, the `Simple Random Forest Regressor` not only trains faster but also achieves better accuracy on both training and testing datasets compared to the `Tuned Random Forest Regressor`. This indicates that, for this specific dataset and modelling task, the default hyperparameters of the Random Forest are highly effective, and additional tuning does not yield performance gains but rather introduces inefficiencies.\n",
    "\n",
    "In the next model, we will apply polynomial features to enhance the model. Following that, we will test other ensemble methods such as `Gradient Boosting` or `XGBoost`, which might handle the data patterns differently and potentially improve performance."
   ]
  },
  {
   "cell_type": "code",
   "execution_count": 9,
   "metadata": {},
   "outputs": [
    {
     "name": "stdout",
     "output_type": "stream",
     "text": [
      "Tuned Random Forest results saved.\n"
     ]
    }
   ],
   "source": [
    "results_dir = '../model_metrics/statistical_models'\n",
    "os.makedirs(results_dir, exist_ok=True)  # Ensure the directory exists\n",
    "results_path = os.path.join(results_dir, 'results_tuned_rf.csv')\n",
    "metrics_tuned_rf.to_csv(results_path, index=False)\n",
    "print(\"Tuned Random Forest results saved.\")"
   ]
  },
  {
   "cell_type": "markdown",
   "metadata": {},
   "source": [
    "#### Extracting and Plotting Feature Importances\n",
    "We'll extract and visualise the feature importances to compare both the original and transformed features."
   ]
  },
  {
   "cell_type": "code",
   "execution_count": 10,
   "metadata": {},
   "outputs": [
    {
     "name": "stdout",
     "output_type": "stream",
     "text": [
      "\n",
      "Feature Importances:\n",
      "         Feature  Importance\n",
      "1           Dept    0.733177\n",
      "4           Size    0.081226\n",
      "0          Store    0.040387\n",
      "3           Type    0.034283\n",
      "12           CPI    0.025836\n",
      "14          Week    0.017214\n",
      "13  Unemployment    0.016047\n",
      "5    Temperature    0.013455\n",
      "6     Fuel_Price    0.011584\n",
      "11     MarkDown5    0.006208\n",
      "9      MarkDown3    0.005625\n",
      "7      MarkDown1    0.004998\n",
      "10     MarkDown4    0.004102\n",
      "8      MarkDown2    0.002908\n",
      "2      IsHoliday    0.001576\n",
      "15          Year    0.001372\n"
     ]
    }
   ],
   "source": [
    "feature_importances = best_rf.feature_importances_\n",
    "features = X_train.columns\n",
    "importance_df = pd.DataFrame({'Feature': features, 'Importance': feature_importances})\n",
    "importance_df = importance_df.sort_values(by='Importance', ascending=False)\n",
    "print(\"\\nFeature Importances:\")\n",
    "print(importance_df)"
   ]
  },
  {
   "cell_type": "code",
   "execution_count": 11,
   "metadata": {},
   "outputs": [
    {
     "data": {
      "image/png": "[encoded data removed]",
      "text/plain": [
       "<Figure size 1000x600 with 1 Axes>"
      ]
     },
     "metadata": {},
     "output_type": "display_data"
    }
   ],
   "source": [
    "plt.figure(figsize=(10, 6))\n",
    "plt.barh(importance_df['Feature'], importance_df['Importance'], color='skyblue')\n",
    "plt.xlabel('Importance')\n",
    "plt.ylabel('Feature')\n",
    "plt.title('Feature Importances from Tuned Random Forest')\n",
    "plt.gca().invert_yaxis()  \n",
    "plt.savefig('../model_metrics/statistical_models/Feature_Importances_from_Tuned_Random_Forest_rf.png', bbox_inches='tight')\n",
    "plt.show()"
   ]
  }
 ],
 "metadata": {
  "kernelspec": {
   "display_name": "myenv",
   "language": "python",
   "name": "python3"
  },
  "language_info": {
   "codemirror_mode": {
    "name": "ipython",
    "version": 3
   },
   "file_extension": ".py",
   "mimetype": "text/x-python",
   "name": "python",
   "nbconvert_exporter": "python",
   "pygments_lexer": "ipython3",
   "version": "3.11.5"
  }
 },
 "nbformat": 4,
 "nbformat_minor": 2
}
