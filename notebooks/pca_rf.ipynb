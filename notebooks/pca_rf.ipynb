{
 "cells": [
  {
   "cell_type": "markdown",
   "metadata": {},
   "source": [
    "### 4. Random Forest with PCA and Polynomial Features"
   ]
  },
  {
   "cell_type": "markdown",
   "metadata": {},
   "source": [
    "#### Setup with Libraries and Utilities"
   ]
  },
  {
   "cell_type": "code",
   "execution_count": null,
   "metadata": {},
   "outputs": [],
   "source": [
    "import pandas as pd\n",
    "import numpy as np\n",
    "import os\n",
    "import json\n",
    "from sklearn.model_selection import train_test_split, RandomizedSearchCV\n",
    "from sklearn.pipeline import Pipeline, make_pipeline\n",
    "from sklearn.decomposition import PCA\n",
    "from sklearn.ensemble import RandomForestRegressor\n",
    "from sklearn.preprocessing import PolynomialFeatures, StandardScaler\n",
    "import matplotlib.pyplot as plt\n",
    "import time\n",
    "\n",
    "from utils.metrics import validate_regression_model, print_regression_performance\n",
    "from utils.normalisation import normalise_data\n",
    "\n",
    "import warnings\n",
    "warnings.filterwarnings(\"ignore\")"
   ]
  },
  {
   "cell_type": "markdown",
   "metadata": {},
   "source": [
    "#### Loading Training and Test Data Splits"
   ]
  },
  {
   "cell_type": "code",
   "execution_count": null,
   "metadata": {},
   "outputs": [],
   "source": [
    "X_train = pd.read_csv('../data_splits/X_train.csv')\n",
    "X_test = pd.read_csv('../data_splits/X_test.csv')\n",
    "y_train = pd.read_csv('../data_splits/y_train.csv').values.ravel()  # Convert to 1D array if needed\n",
    "y_test = pd.read_csv('../data_splits/y_test.csv').values.ravel()"
   ]
  },
  {
   "cell_type": "markdown",
   "metadata": {},
   "source": [
    "#### Normalise the Data"
   ]
  },
  {
   "cell_type": "code",
   "execution_count": null,
   "metadata": {},
   "outputs": [],
   "source": [
    "X_train_scaled, X_test_scaled = normalise_data(X_train, X_test)"
   ]
  },
  {
   "cell_type": "markdown",
   "metadata": {},
   "source": [
    "#### Randomised Search for Optimising Random Forest Regression Parameters with PCA and Polynomial Features"
   ]
  },
  {
   "cell_type": "code",
   "execution_count": null,
   "metadata": {},
   "outputs": [],
   "source": [
    "rf_param_grid = {\n",
    "    'randomforestregressor__n_estimators': [100, 200, 300, 400, 500],\n",
    "    'randomforestregressor__max_features': ['auto', 'sqrt', 'log2'],\n",
    "    'randomforestregressor__max_depth': [10, 20, 30, None],\n",
    "    'randomforestregressor__min_samples_split': [2, 5, 10],\n",
    "    'randomforestregressor__min_samples_leaf': [1, 2, 4],\n",
    "    'randomforestregressor__bootstrap': [True, False]\n",
    "}\n",
    "\n",
    "rf_pipeline_pca = make_pipeline(\n",
    "    PolynomialFeatures(degree=2, interaction_only=True),\n",
    "    StandardScaler(),\n",
    "    PCA(n_components=0.95),\n",
    "    RandomForestRegressor(random_state=42)\n",
    ")\n",
    "\n",
    "rf_random_search_pca = RandomizedSearchCV(estimator=rf_pipeline_pca, param_distributions=rf_param_grid, \n",
    "                                          n_iter=100, cv=5, n_jobs=-1, verbose=2, random_state=42)\n",
    "\n",
    "start_time_rf_pca = time.time()\n",
    "rf_random_search_pca.fit(X_train_scaled, y_train)\n",
    "training_time_rf_pca = (time.time() - start_time_rf_pca) / 60"
   ]
  },
  {
   "cell_type": "markdown",
   "metadata": {},
   "source": [
    "#### Metrics for Random Forest Regressor with PCA"
   ]
  },
  {
   "cell_type": "code",
   "execution_count": null,
   "metadata": {},
   "outputs": [],
   "source": [
    "y_pred_pca = rf_random_search_pca.predict(X_test_scaled)\n",
    "\n",
    "metrics_poly_rf_pca = validate_regression_model(rf_random_search_pca.best_estimator_, X_test_scaled, y_test, \"Random Forest Regressor with PCA\")\n",
    "metrics_poly_rf_pca['Training Time rf_pca (min)'] = training_time_rf_pca\n",
    "\n",
    "print(metrics_poly_rf_pca)"
   ]
  },
  {
   "cell_type": "markdown",
   "metadata": {},
   "source": [
    "#### Saving Poly Random Forest Results for PCA Pipeline"
   ]
  },
  {
   "cell_type": "code",
   "execution_count": null,
   "metadata": {},
   "outputs": [],
   "source": [
    "results_dir_pca = '../model_metrics/statistical_models'\n",
    "os.makedirs(results_dir_pca, exist_ok=True)\n",
    "results_path_pca = os.path.join(results_dir_pca, 'metrics_poly_rf_pca.csv')\n",
    "\n",
    "metrics_poly_rf_pca.to_csv(results_path_pca, index=False)\n",
    "\n",
    "print(\"Poly Random Forest results for PCA pipeline saved.\")"
   ]
  },
  {
   "cell_type": "markdown",
   "metadata": {},
   "source": [
    "#### Saving Best Parameters for PCA Pipeline"
   ]
  },
  {
   "cell_type": "code",
   "execution_count": null,
   "metadata": {},
   "outputs": [],
   "source": [
    "best_params_path_pca = '../model_metrics/statistical_models/best_params_rf_pca.json'\n",
    "\n",
    "best_params_rf_pca = rf_random_search_pca.best_params_\n",
    "\n",
    "try:\n",
    "    with open(best_params_path_pca, 'w') as file:\n",
    "        json.dump(best_params_rf_pca, file)\n",
    "    print(f\"Best parameters for PCA pipeline saved to {best_params_path_pca}\")\n",
    "except Exception as e:\n",
    "    print(f\"Error saving best parameters for PCA pipeline: {e}\")"
   ]
  },
  {
   "cell_type": "markdown",
   "metadata": {},
   "source": [
    "#### Metrics for All Models"
   ]
  },
  {
   "cell_type": "code",
   "execution_count": null,
   "metadata": {},
   "outputs": [],
   "source": [
    "metrics_dir = '../model_metrics/statistical_models'\n",
    "\n",
    "metric_files = [\n",
    "    'results_simple_rf.csv',\n",
    "    'results_tuned_rf.csv',\n",
    "    'results_poly_rf.csv',\n",
    "    'metrics_poly_rf_pca.csv'\n",
    "]\n",
    "\n",
    "dfs = [pd.read_csv(os.path.join(metrics_dir, file)).transpose() for file in metric_files if os.path.exists(os.path.join(metrics_dir, file))]\n",
    "\n",
    "all_metrics_df = pd.concat(dfs, ignore_index=True)\n",
    "\n",
    "print(all_metrics_df)"
   ]
  },
  {
   "cell_type": "markdown",
   "metadata": {},
   "source": [
    "#### Extracting and Plotting Feature Importances\n",
    "We'll extract and visualise the feature importances to compare both the original and transformed features."
   ]
  },
  {
   "cell_type": "code",
   "execution_count": null,
   "metadata": {},
   "outputs": [],
   "source": [
    "# Extract and visualise the feature importances to compare both the original and transformed features.\n",
    "rf_best_pca = rf_random_search_pca.best_estimator_.named_steps['randomforestregressor']\n",
    "feature_importances_pca = rf_best_pca.feature_importances_\n",
    "poly_features = rf_random_search_pca.best_estimator_.named_steps['polynomialfeatures'].get_feature_names_out(X_train.columns)\n",
    "\n",
    "importance_df_pca = pd.DataFrame({'Feature': poly_features, 'Importance': feature_importances_pca})\n",
    "importance_df_pca = importance_df_pca.sort_values(by='Importance', ascending=False)\n",
    "\n",
    "plt.figure(figsize=(10, 6))\n",
    "# Select top 20 features\n",
    "top_features = importance_df_pca.head(20)\n",
    "\n",
    "plt.barh(top_features['Feature'], top_features['Importance'], align='center', color='skyblue')\n",
    "plt.xlabel('Feature Importance')\n",
    "plt.title('Top 20 Feature Importances for Random Forest Regressor with Polynomial Features and PCA')\n",
    "plt.gca().invert_yaxis()  \n",
    "\n",
    "plt.savefig('../model_metrics/statistical_models/feature_importances_poly_rf_pca.png', bbox_inches='tight')\n",
    "plt.show()"
   ]
  }
 ],
 "metadata": {
  "kernelspec": {
   "display_name": "myenv",
   "language": "python",
   "name": "python3"
  },
  "language_info": {
   "codemirror_mode": {
    "name": "ipython",
    "version": 3
   },
   "file_extension": ".py",
   "mimetype": "text/x-python",
   "name": "python",
   "nbconvert_exporter": "python",
   "pygments_lexer": "ipython3",
   "version": "3.11.5"
  }
 },
 "nbformat": 4,
 "nbformat_minor": 2
}
