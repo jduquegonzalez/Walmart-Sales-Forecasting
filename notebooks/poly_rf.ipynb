{
 "cells": [
  {
   "cell_type": "markdown",
   "metadata": {},
   "source": [
    "### 3. Polynomial Features with Random Forest and Randomised Search"
   ]
  },
  {
   "cell_type": "markdown",
   "metadata": {},
   "source": [
    "#### Setup with Libraries and Utilities"
   ]
  },
  {
   "cell_type": "code",
   "execution_count": null,
   "metadata": {},
   "outputs": [],
   "source": [
    "import pandas as pd\n",
    "import numpy as np\n",
    "import os\n",
    "import json\n",
    "from sklearn.model_selection import train_test_split, RandomizedSearchCV\n",
    "from sklearn.ensemble import RandomForestRegressor\n",
    "from sklearn.preprocessing import PolynomialFeatures\n",
    "import matplotlib.pyplot as plt\n",
    "import time\n",
    "from sklearn.pipeline import make_pipeline\n",
    "\n",
    "from utils.metrics import kpi_ML\n",
    "from utils.normalisation import normalise_data\n",
    "\n",
    "import warnings\n",
    "warnings.filterwarnings(\"ignore\")"
   ]
  },
  {
   "cell_type": "markdown",
   "metadata": {},
   "source": [
    "#### Loading Training and Test Data Splits"
   ]
  },
  {
   "cell_type": "code",
   "execution_count": null,
   "metadata": {},
   "outputs": [],
   "source": [
    "X_train = pd.read_csv('../data_splits/X_train.csv')\n",
    "X_test = pd.read_csv('../data_splits/X_test.csv')\n",
    "y_train = pd.read_csv('../data_splits/y_train.csv').values.ravel()  # Convert to 1D array if needed\n",
    "y_test = pd.read_csv('../data_splits/y_test.csv').values.ravel()"
   ]
  },
  {
   "cell_type": "markdown",
   "metadata": {},
   "source": [
    "#### Normalise the Data"
   ]
  },
  {
   "cell_type": "code",
   "execution_count": null,
   "metadata": {},
   "outputs": [],
   "source": [
    "X_train_scaled, X_test_scaled = normalise_data(X_train, X_test)"
   ]
  },
  {
   "cell_type": "markdown",
   "metadata": {},
   "source": [
    "#### Randomised Search for Optimising Polynomial Random Forest Regression Parameters"
   ]
  },
  {
   "cell_type": "code",
   "execution_count": null,
   "metadata": {},
   "outputs": [],
   "source": [
    "rf_param_grid_poly = {\n",
    "    'randomforestregressor__n_estimators': [100, 200, 300],\n",
    "    'randomforestregressor__max_features': ['auto', 'sqrt'],\n",
    "    'randomforestregressor__max_depth': [10, 20, None],\n",
    "    'randomforestregressor__min_samples_split': [2, 5, 10],\n",
    "    'randomforestregressor__min_samples_leaf': [1, 2, 4],\n",
    "    'randomforestregressor__bootstrap': [True, False]\n",
    "}\n",
    "\n",
    "rf_pipeline = make_pipeline(PolynomialFeatures(degree=2, interaction_only=True), RandomForestRegressor(random_state=42))\n",
    "\n",
    "rf_random_search_poly = RandomizedSearchCV(estimator=rf_pipeline, param_distributions=rf_param_grid_poly, \n",
    "                                           n_iter=50, cv=3, n_jobs=-1, verbose=2, random_state=42)\n",
    "\n",
    "start_time_rf3 = time.time()\n",
    "rf_random_search_poly.fit(X_train_scaled, y_train) \n",
    "training_time_rf3 = (time.time() - start_time_rf3) / 60 \n",
    "best_rf_poly = rf_random_search_poly.best_estimator_\n",
    "print(\"Best parameters found: \", rf_random_search_poly.best_params_)\n",
    "best_params_path = '../model_metrics/statistical_models/best_params_poly_rf.json'\n",
    "best_params_tuned_rf_poly = rf_random_search_poly.best_params_\n",
    "\n",
    "try:\n",
    "    with open(best_params_path, 'w') as file:\n",
    "        json.dump(best_params_tuned_rf_poly, file)\n",
    "    print(f\"Best parameters saved to {best_params_path}\")\n",
    "except Exception as e:\n",
    "    print(f\"Error saving best parameters: {e}\")"
   ]
  },
  {
   "cell_type": "markdown",
   "metadata": {},
   "source": [
    "#### Model Evaluation with Metrics"
   ]
  },
  {
   "cell_type": "code",
   "execution_count": null,
   "metadata": {},
   "outputs": [],
   "source": [
    "Y_train_pred_poly = best_rf_poly.predict(X_train_scaled)\n",
    "Y_test_pred_poly = best_rf_poly.predict(X_test_scaled)\n",
    "\n",
    "metrics_tuned_rf_poly = kpi_ML(y_train, Y_train_pred_poly, y_test, Y_test_pred_poly, \"Tuned Random Forest Regressor with Polynomial Features\")\n",
    "metrics_tuned_rf_poly['Training Time rf3 (min)'] = round(training_time_rf3, 1)\n",
    "\n",
    "print(metrics_tuned_rf_poly)\n",
    "results_dir_poly = '../model_metrics/statistical_models'\n",
    "os.makedirs(results_dir_poly, exist_ok=True) \n",
    "results_path_poly = os.path.join(results_dir_poly, 'results_tuned_rf_poly.csv')\n",
    "metrics_tuned_rf_poly.to_csv(results_path_poly, index=False)\n",
    "print(\"Tuned Random Forest results with Polynomial Features saved.\")"
   ]
  },
  {
   "cell_type": "markdown",
   "metadata": {},
   "source": [
    "#### Extracting and Plotting Feature Importances\n",
    "We'll extract and visualise the feature importances to compare both the original and transformed features."
   ]
  },
  {
   "cell_type": "code",
   "execution_count": null,
   "metadata": {},
   "outputs": [],
   "source": [
    "feature_importances_poly_rf = best_rf_poly.named_steps['randomforestregressor'].feature_importances_\n",
    "poly_features = best_rf_poly.named_steps['polynomialfeatures'].get_feature_names_out(X_train.columns)\n",
    "\n",
    "importance_df_poly = pd.DataFrame({'Feature': poly_features, 'Importance': feature_importances_poly_rf})\n",
    "importance_df_poly = importance_df_poly.sort_values(by='Importance', ascending=False)\n",
    "\n",
    "print(\"\\nFeature Importances:\")\n",
    "print(importance_df_poly)\n",
    "plt.figure(figsize=(10, 6))\n",
    "plt.barh(importance_df_poly['Feature'][:20], importance_df_poly['Importance'][:20], color='skyblue')\n",
    "plt.xlabel('Importance')\n",
    "plt.ylabel('Feature')\n",
    "plt.title('Top 20 Feature Importances from Tuned Random Forest with Polynomial Features')\n",
    "plt.gca().invert_yaxis()  \n",
    "plt.savefig('../model_metrics/statistical_models/feature_importances_poly_rf.png', bbox_inches='tight')\n",
    "plt.show()"
   ]
  }
 ],
 "metadata": {
  "kernelspec": {
   "display_name": "myenv",
   "language": "python",
   "name": "python3"
  },
  "language_info": {
   "codemirror_mode": {
    "name": "ipython",
    "version": 3
   },
   "file_extension": ".py",
   "mimetype": "text/x-python",
   "name": "python",
   "nbconvert_exporter": "python",
   "pygments_lexer": "ipython3",
   "version": "3.11.5"
  }
 },
 "nbformat": 4,
 "nbformat_minor": 2
}
